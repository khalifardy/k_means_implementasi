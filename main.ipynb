{
 "cells": [
  {
   "cell_type": "code",
   "execution_count": 2,
   "metadata": {},
   "outputs": [],
   "source": [
    "import pandas as pd\n",
    "import math"
   ]
  },
  {
   "cell_type": "code",
   "execution_count": 3,
   "metadata": {},
   "outputs": [],
   "source": [
    "def euclidean_distance(x_1,x_1a,x_2,x_2a):\n",
    "    delta_x = (x_1a-x_1)**2\n",
    "    delta_y = (x_2a-x_2)**2\n",
    "    return math.sqrt(delta_x + delta_y)"
   ]
  },
  {
   "cell_type": "code",
   "execution_count": 5,
   "metadata": {},
   "outputs": [
    {
     "data": {
      "text/html": [
       "<div>\n",
       "<style scoped>\n",
       "    .dataframe tbody tr th:only-of-type {\n",
       "        vertical-align: middle;\n",
       "    }\n",
       "\n",
       "    .dataframe tbody tr th {\n",
       "        vertical-align: top;\n",
       "    }\n",
       "\n",
       "    .dataframe thead th {\n",
       "        text-align: right;\n",
       "    }\n",
       "</style>\n",
       "<table border=\"1\" class=\"dataframe\">\n",
       "  <thead>\n",
       "    <tr style=\"text-align: right;\">\n",
       "      <th></th>\n",
       "      <th>x1</th>\n",
       "      <th>x2</th>\n",
       "    </tr>\n",
       "  </thead>\n",
       "  <tbody>\n",
       "    <tr>\n",
       "      <th>0</th>\n",
       "      <td>1</td>\n",
       "      <td>40</td>\n",
       "    </tr>\n",
       "    <tr>\n",
       "      <th>1</th>\n",
       "      <td>28</td>\n",
       "      <td>44</td>\n",
       "    </tr>\n",
       "    <tr>\n",
       "      <th>2</th>\n",
       "      <td>15</td>\n",
       "      <td>16</td>\n",
       "    </tr>\n",
       "    <tr>\n",
       "      <th>3</th>\n",
       "      <td>16</td>\n",
       "      <td>31</td>\n",
       "    </tr>\n",
       "    <tr>\n",
       "      <th>4</th>\n",
       "      <td>21</td>\n",
       "      <td>9</td>\n",
       "    </tr>\n",
       "    <tr>\n",
       "      <th>5</th>\n",
       "      <td>11</td>\n",
       "      <td>47</td>\n",
       "    </tr>\n",
       "    <tr>\n",
       "      <th>6</th>\n",
       "      <td>30</td>\n",
       "      <td>33</td>\n",
       "    </tr>\n",
       "    <tr>\n",
       "      <th>7</th>\n",
       "      <td>10</td>\n",
       "      <td>28</td>\n",
       "    </tr>\n",
       "    <tr>\n",
       "      <th>8</th>\n",
       "      <td>20</td>\n",
       "      <td>3</td>\n",
       "    </tr>\n",
       "    <tr>\n",
       "      <th>9</th>\n",
       "      <td>31</td>\n",
       "      <td>13</td>\n",
       "    </tr>\n",
       "  </tbody>\n",
       "</table>\n",
       "</div>"
      ],
      "text/plain": [
       "   x1  x2\n",
       "0   1  40\n",
       "1  28  44\n",
       "2  15  16\n",
       "3  16  31\n",
       "4  21   9\n",
       "5  11  47\n",
       "6  30  33\n",
       "7  10  28\n",
       "8  20   3\n",
       "9  31  13"
      ]
     },
     "execution_count": 5,
     "metadata": {},
     "output_type": "execute_result"
    }
   ],
   "source": [
    "data = pd.read_excel('Data_Set_1304211035.xlsx')\n",
    "dataku = data[['x1','x2']]\n",
    "dataku"
   ]
  },
  {
   "cell_type": "code",
   "execution_count": 13,
   "metadata": {},
   "outputs": [
    {
     "name": "stdout",
     "output_type": "stream",
     "text": [
      "1\n",
      "28\n",
      "16\n",
      "17\n",
      "9.5\n",
      "36.5\n",
      "10.0\n",
      "28.0\n",
      "10.6\n",
      "32.4\n",
      "10.0\n",
      "28.0\n",
      "10.6\n",
      "32.4\n",
      "10.0\n",
      "28.0\n"
     ]
    }
   ],
   "source": [
    "class_1 = []\n",
    "class_2 = []\n",
    "centroidc1_x1 = 1\n",
    "centroidc1_x2 = 28\n",
    "centroidc2_x1 = 16\n",
    "centroidc2_x2 = 17\n",
    "\n",
    "for i in range(4):\n",
    "    print(centroidc1_x1)\n",
    "    print(centroidc1_x2)\n",
    "    print(centroidc2_x1)\n",
    "    print(centroidc2_x2)\n",
    "    class_1 = []\n",
    "    class_2 = []\n",
    "    for _,row in dataku.iterrows():\n",
    "        c1 = euclidean_distance(row['x1'],centroidc1_x1,row['x2'],centroidc1_x2)\n",
    "        c2 =  euclidean_distance(row['x1'],centroidc1_x2,row['x2'],centroidc2_x2)\n",
    "\n",
    "        if c1 < c2 :\n",
    "            class_1.append({'x1':row['x1'],'x2':row['x2']})\n",
    "        elif c2 < c1 :\n",
    "            class_2.append({'x1':row['x1'],'x2':row['x2']})\n",
    "    \n",
    "    sum_c1_x1 = 0\n",
    "    sum_c1_x2 = 0\n",
    "    sum_c2_x1 = 0\n",
    "    sum_c2_x2 = 0\n",
    "\n",
    "    for c_1 in class_1:\n",
    "        sum_c1_x1 += c_1['x1']\n",
    "        sum_c1_x2 += c_1['x2']\n",
    "    \n",
    "    for c_2 in class_2:\n",
    "        sum_c2_x1 += c_1['x1']\n",
    "        sum_c2_x2 += c_1['x2']\n",
    "    \n",
    "    centroidc1_x1 = sum_c1_x1/len(class_1)\n",
    "    centroidc1_x2 = sum_c1_x2/len(class_1)\n",
    "    centroidc2_x1 = sum_c2_x1/len(class_2)\n",
    "    centroidc2_x2 = sum_c2_x2/len(class_2)\n",
    "\n",
    "\n",
    "    \n"
   ]
  },
  {
   "cell_type": "code",
   "execution_count": 14,
   "metadata": {},
   "outputs": [
    {
     "data": {
      "text/plain": [
       "[{'x1': 1, 'x2': 40},\n",
       " {'x1': 15, 'x2': 16},\n",
       " {'x1': 16, 'x2': 31},\n",
       " {'x1': 11, 'x2': 47},\n",
       " {'x1': 10, 'x2': 28}]"
      ]
     },
     "execution_count": 14,
     "metadata": {},
     "output_type": "execute_result"
    }
   ],
   "source": [
    "class_1"
   ]
  },
  {
   "cell_type": "code",
   "execution_count": 15,
   "metadata": {},
   "outputs": [
    {
     "data": {
      "text/plain": [
       "[{'x1': 28, 'x2': 44},\n",
       " {'x1': 21, 'x2': 9},\n",
       " {'x1': 30, 'x2': 33},\n",
       " {'x1': 20, 'x2': 3},\n",
       " {'x1': 31, 'x2': 13}]"
      ]
     },
     "execution_count": 15,
     "metadata": {},
     "output_type": "execute_result"
    }
   ],
   "source": [
    "class_2"
   ]
  }
 ],
 "metadata": {
  "kernelspec": {
   "display_name": ".env",
   "language": "python",
   "name": "python3"
  },
  "language_info": {
   "codemirror_mode": {
    "name": "ipython",
    "version": 3
   },
   "file_extension": ".py",
   "mimetype": "text/x-python",
   "name": "python",
   "nbconvert_exporter": "python",
   "pygments_lexer": "ipython3",
   "version": "3.12.0"
  }
 },
 "nbformat": 4,
 "nbformat_minor": 2
}
